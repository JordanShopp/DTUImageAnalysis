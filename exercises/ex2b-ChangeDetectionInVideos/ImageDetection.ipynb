{
 "cells": [
  {
   "cell_type": "code",
   "execution_count": null,
   "id": "aeddda2c",
   "metadata": {},
   "outputs": [
    {
     "name": "stdout",
     "output_type": "stream",
     "text": [
      "Starting image capture\n",
      "Opening connection to camera\n"
     ]
    },
    {
     "name": "stderr",
     "output_type": "stream",
     "text": [
      "[ WARN:0@0.435] global /private/var/folders/sy/f16zz6x50xz3113nwtb9bvq00000gp/T/abs_5a1v4y7k9y/croot/opencv-suite_1676472757237/work/modules/videoio/src/cap_gstreamer.cpp (862) isPipelinePlaying OpenCV | GStreamer warning: GStreamer: pipeline have not been created\n"
     ]
    },
    {
     "name": "stdout",
     "output_type": "stream",
     "text": [
      "Starting camera loop\n"
     ]
    }
   ],
   "source": [
    "import time\n",
    "import cv2\n",
    "import numpy as np\n",
    "from skimage.util import img_as_float\n",
    "from skimage.util import img_as_ubyte\n",
    "\n",
    "\n",
    "def show_in_moved_window(win_name, img, x, y):\n",
    "    \"\"\"\n",
    "    Show an image in a window, where the position of the window can be given\n",
    "    \"\"\"\n",
    "    cv2.namedWindow(win_name)\n",
    "    cv2.moveWindow(win_name, x, y)\n",
    "    cv2.imshow(win_name,img)\n",
    "\n",
    "\n",
    "def capture_from_camera_and_show_images():\n",
    "    print(\"Starting image capture\")\n",
    "\n",
    "    print(\"Opening connection to camera\")\n",
    "    url = 0\n",
    "    use_droid_cam = False\n",
    "    if use_droid_cam:\n",
    "        url = \"http://192.168.1.120:4747/video\"\n",
    "    cap = cv2.VideoCapture(url)\n",
    "    # cap = cv2.VideoCapture(0)\n",
    "    if not cap.isOpened():\n",
    "        print(\"Cannot open camera\")\n",
    "        exit()\n",
    "\n",
    "    print(\"Starting camera loop\")\n",
    "    # Get first image\n",
    "    ret, frame = cap.read()\n",
    "    # if frame is read correctly ret is True\n",
    "    if not ret:\n",
    "        print(\"Can't receive frame\")\n",
    "        exit()\n",
    "\n",
    "    # Transform image to gray scale and then to float, so we can do some processing\n",
    "    frame_gray = cv2.cvtColor(frame, cv2.COLOR_BGR2GRAY)\n",
    "    frame_gray = img_as_float(frame_gray)\n",
    "\n",
    "    # To keep track of frames per second\n",
    "    start_time = time.time()\n",
    "    n_frames = 0\n",
    "    stop = False\n",
    "    while not stop:\n",
    "        ret, new_frame = cap.read()\n",
    "        if not ret:\n",
    "            print(\"Can't receive frame. Exiting ...\")\n",
    "            break\n",
    "\n",
    "        # Transform image to gray scale and then to float, so we can do some processing\n",
    "        new_frame_gray = cv2.cvtColor(new_frame, cv2.COLOR_BGR2GRAY)\n",
    "        new_frame_gray = img_as_float(new_frame_gray)\n",
    "\n",
    "        # Compute difference image\n",
    "        dif_img = np.abs(new_frame_gray - frame_gray)\n",
    "\n",
    "        # Keep track of frames-per-second (FPS)\n",
    "        n_frames = n_frames + 1\n",
    "        elapsed_time = time.time() - start_time\n",
    "        fps = int(n_frames / elapsed_time)\n",
    "\n",
    "        # Put the FPS on the new_frame\n",
    "        str_out = f\"fps: {fps}\"\n",
    "        font = cv2.FONT_HERSHEY_COMPLEX\n",
    "        cv2.putText(new_frame, str_out, (100, 100), font, 1, 255, 1)\n",
    "\n",
    "        # Display the resulting frame\n",
    "        show_in_moved_window('Input', new_frame, 0, 10)\n",
    "        show_in_moved_window('Input gray', new_frame_gray, 600, 10)\n",
    "        show_in_moved_window('Difference image', dif_img, 1200, 10)\n",
    "\n",
    "        # Old frame is updated\n",
    "        frame_gray = new_frame_gray\n",
    "\n",
    "        if cv2.waitKey(1) == ord('q'):\n",
    "            stop = True\n",
    "\n",
    "    print(\"Stopping image loop\")\n",
    "    cap.release()\n",
    "    cv2.destroyAllWindows()\n",
    "\n",
    "\n",
    "if __name__ == '__main__':\n",
    "    capture_from_camera_and_show_images()"
   ]
  },
  {
   "cell_type": "code",
   "execution_count": null,
   "id": "7d2f25e0",
   "metadata": {},
   "outputs": [],
   "source": []
  },
  {
   "cell_type": "code",
   "execution_count": null,
   "id": "368eacd7",
   "metadata": {},
   "outputs": [],
   "source": []
  }
 ],
 "metadata": {
  "kernelspec": {
   "display_name": "Python 3 (ipykernel)",
   "language": "python",
   "name": "python3"
  },
  "language_info": {
   "codemirror_mode": {
    "name": "ipython",
    "version": 3
   },
   "file_extension": ".py",
   "mimetype": "text/x-python",
   "name": "python",
   "nbconvert_exporter": "python",
   "pygments_lexer": "ipython3",
   "version": "3.9.13"
  }
 },
 "nbformat": 4,
 "nbformat_minor": 5
}
